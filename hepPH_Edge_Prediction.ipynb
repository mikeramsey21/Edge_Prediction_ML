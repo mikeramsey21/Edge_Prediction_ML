{
 "cells": [
  {
   "cell_type": "code",
   "execution_count": 1,
   "metadata": {},
   "outputs": [
    {
     "name": "stderr",
     "output_type": "stream",
     "text": [
      "C:\\Users\\mikee\\Anaconda3\\lib\\site-packages\\h5py\\__init__.py:36: FutureWarning: Conversion of the second argument of issubdtype from `float` to `np.floating` is deprecated. In future, it will be treated as `np.float64 == np.dtype(float).type`.\n",
      "  from ._conv import register_converters as _register_converters\n"
     ]
    }
   ],
   "source": [
    "\"\"\"\n",
    "Michael E. Ramsey\n",
    "CSCI 5352\n",
    "Date Created: 11/05/18\n",
    "Last Edited: 12/05/18\n",
    "\n",
    "This is a python script to create edge prediction models with the features created by:\n",
    "\"hepPH_Feature_Construction.ipynb\".\n",
    "\n",
    "I implement several different machine learning models and check out aspects of all\n",
    "\"\"\"\n",
    "\n",
    "# Get necessary libraries\n",
    "import sys\n",
    "import io\n",
    "from os import listdir\n",
    "from os.path import isfile, join\n",
    "import matplotlib.pyplot as plt\n",
    "import pandas as pd\n",
    "import tensorflow as tf\n",
    "import numpy as np\n",
    "from random import randint\n",
    "from sklearn.model_selection import train_test_split\n",
    "from sklearn import preprocessing\n",
    "from sklearn.linear_model import LogisticRegression\n",
    "from sklearn.linear_model import SGDClassifier\n",
    "from sklearn.neighbors import KNeighborsClassifier\n",
    "from sklearn.ensemble import RandomForestClassifier\n",
    "from sklearn.ensemble import AdaBoostClassifier\n",
    "from sklearn.naive_bayes import BernoulliNB\n",
    "from sklearn.metrics import confusion_matrix\n",
    "np.set_printoptions(formatter={'float_kind':'{:f}'.format})"
   ]
  },
  {
   "cell_type": "code",
   "execution_count": 2,
   "metadata": {},
   "outputs": [],
   "source": [
    "\"\"\"\n",
    "Load the data frame\n",
    "\"\"\"\n",
    "# Set your file path here \n",
    "filepath = \"hepPH_Features/\"\n",
    "filename = 'hepPH_features_50.csv'\n",
    "# Load the data\n",
    "feature_df = pd.read_csv(filepath + filename)"
   ]
  },
  {
   "cell_type": "code",
   "execution_count": 3,
   "metadata": {},
   "outputs": [
    {
     "data": {
      "text/html": [
       "<div>\n",
       "<style scoped>\n",
       "    .dataframe tbody tr th:only-of-type {\n",
       "        vertical-align: middle;\n",
       "    }\n",
       "\n",
       "    .dataframe tbody tr th {\n",
       "        vertical-align: top;\n",
       "    }\n",
       "\n",
       "    .dataframe thead th {\n",
       "        text-align: right;\n",
       "    }\n",
       "</style>\n",
       "<table border=\"1\" class=\"dataframe\">\n",
       "  <thead>\n",
       "    <tr style=\"text-align: right;\">\n",
       "      <th></th>\n",
       "      <th>Unnamed: 0</th>\n",
       "      <th>Node_1</th>\n",
       "      <th>Node_2</th>\n",
       "      <th>common_neighbors</th>\n",
       "      <th>pref_attach</th>\n",
       "      <th>neighbor_sum</th>\n",
       "      <th>sorensen</th>\n",
       "      <th>cosine_sim</th>\n",
       "      <th>hub_prom</th>\n",
       "      <th>hub_depr</th>\n",
       "      <th>lhn</th>\n",
       "      <th>adamic_adar</th>\n",
       "      <th>resource_all</th>\n",
       "      <th>local_cluster_sum</th>\n",
       "      <th>local_cluster_prod</th>\n",
       "      <th>local_path001</th>\n",
       "      <th>local_path01</th>\n",
       "      <th>local_path1</th>\n",
       "      <th>edge</th>\n",
       "      <th>label</th>\n",
       "    </tr>\n",
       "  </thead>\n",
       "  <tbody>\n",
       "    <tr>\n",
       "      <th>0</th>\n",
       "      <td>0</td>\n",
       "      <td>201299</td>\n",
       "      <td>9605245</td>\n",
       "      <td>3.0</td>\n",
       "      <td>104.0</td>\n",
       "      <td>21.0</td>\n",
       "      <td>0.142857</td>\n",
       "      <td>0.294174</td>\n",
       "      <td>0.375000</td>\n",
       "      <td>0.230769</td>\n",
       "      <td>0.028846</td>\n",
       "      <td>1.180142</td>\n",
       "      <td>0.244007</td>\n",
       "      <td>0.268315</td>\n",
       "      <td>0.016026</td>\n",
       "      <td>3.026</td>\n",
       "      <td>3.26</td>\n",
       "      <td>5.6</td>\n",
       "      <td>1.0</td>\n",
       "      <td>Tr</td>\n",
       "    </tr>\n",
       "    <tr>\n",
       "      <th>1</th>\n",
       "      <td>1</td>\n",
       "      <td>1235</td>\n",
       "      <td>9911233</td>\n",
       "      <td>3.0</td>\n",
       "      <td>315.0</td>\n",
       "      <td>52.0</td>\n",
       "      <td>0.057692</td>\n",
       "      <td>0.169031</td>\n",
       "      <td>0.428571</td>\n",
       "      <td>0.066667</td>\n",
       "      <td>0.009524</td>\n",
       "      <td>0.799898</td>\n",
       "      <td>0.071119</td>\n",
       "      <td>0.363348</td>\n",
       "      <td>0.029822</td>\n",
       "      <td>3.096</td>\n",
       "      <td>3.96</td>\n",
       "      <td>12.6</td>\n",
       "      <td>1.0</td>\n",
       "      <td>Tr</td>\n",
       "    </tr>\n",
       "    <tr>\n",
       "      <th>2</th>\n",
       "      <td>2</td>\n",
       "      <td>106055</td>\n",
       "      <td>9506280</td>\n",
       "      <td>2.0</td>\n",
       "      <td>243.0</td>\n",
       "      <td>36.0</td>\n",
       "      <td>0.055556</td>\n",
       "      <td>0.128300</td>\n",
       "      <td>0.222222</td>\n",
       "      <td>0.074074</td>\n",
       "      <td>0.008230</td>\n",
       "      <td>0.740548</td>\n",
       "      <td>0.136364</td>\n",
       "      <td>0.257835</td>\n",
       "      <td>0.015195</td>\n",
       "      <td>2.061</td>\n",
       "      <td>2.61</td>\n",
       "      <td>8.1</td>\n",
       "      <td>1.0</td>\n",
       "      <td>Tr</td>\n",
       "    </tr>\n",
       "    <tr>\n",
       "      <th>3</th>\n",
       "      <td>3</td>\n",
       "      <td>101127</td>\n",
       "      <td>9508393</td>\n",
       "      <td>1.0</td>\n",
       "      <td>551.0</td>\n",
       "      <td>48.0</td>\n",
       "      <td>0.020833</td>\n",
       "      <td>0.042601</td>\n",
       "      <td>0.052632</td>\n",
       "      <td>0.034483</td>\n",
       "      <td>0.001815</td>\n",
       "      <td>0.339623</td>\n",
       "      <td>0.052632</td>\n",
       "      <td>0.120358</td>\n",
       "      <td>0.003370</td>\n",
       "      <td>1.067</td>\n",
       "      <td>1.67</td>\n",
       "      <td>7.7</td>\n",
       "      <td>1.0</td>\n",
       "      <td>Tr</td>\n",
       "    </tr>\n",
       "    <tr>\n",
       "      <th>4</th>\n",
       "      <td>4</td>\n",
       "      <td>9611284</td>\n",
       "      <td>9501389</td>\n",
       "      <td>1.0</td>\n",
       "      <td>288.0</td>\n",
       "      <td>54.0</td>\n",
       "      <td>0.018519</td>\n",
       "      <td>0.058926</td>\n",
       "      <td>0.166667</td>\n",
       "      <td>0.020833</td>\n",
       "      <td>0.003472</td>\n",
       "      <td>0.417032</td>\n",
       "      <td>0.090909</td>\n",
       "      <td>0.137589</td>\n",
       "      <td>0.004728</td>\n",
       "      <td>1.070</td>\n",
       "      <td>1.70</td>\n",
       "      <td>8.0</td>\n",
       "      <td>1.0</td>\n",
       "      <td>Tr</td>\n",
       "    </tr>\n",
       "  </tbody>\n",
       "</table>\n",
       "</div>"
      ],
      "text/plain": [
       "   Unnamed: 0   Node_1   Node_2  common_neighbors  pref_attach  neighbor_sum  \\\n",
       "0           0   201299  9605245               3.0        104.0          21.0   \n",
       "1           1     1235  9911233               3.0        315.0          52.0   \n",
       "2           2   106055  9506280               2.0        243.0          36.0   \n",
       "3           3   101127  9508393               1.0        551.0          48.0   \n",
       "4           4  9611284  9501389               1.0        288.0          54.0   \n",
       "\n",
       "   sorensen  cosine_sim  hub_prom  hub_depr       lhn  adamic_adar  \\\n",
       "0  0.142857    0.294174  0.375000  0.230769  0.028846     1.180142   \n",
       "1  0.057692    0.169031  0.428571  0.066667  0.009524     0.799898   \n",
       "2  0.055556    0.128300  0.222222  0.074074  0.008230     0.740548   \n",
       "3  0.020833    0.042601  0.052632  0.034483  0.001815     0.339623   \n",
       "4  0.018519    0.058926  0.166667  0.020833  0.003472     0.417032   \n",
       "\n",
       "   resource_all  local_cluster_sum  local_cluster_prod  local_path001  \\\n",
       "0      0.244007           0.268315            0.016026          3.026   \n",
       "1      0.071119           0.363348            0.029822          3.096   \n",
       "2      0.136364           0.257835            0.015195          2.061   \n",
       "3      0.052632           0.120358            0.003370          1.067   \n",
       "4      0.090909           0.137589            0.004728          1.070   \n",
       "\n",
       "   local_path01  local_path1  edge label  \n",
       "0          3.26          5.6   1.0    Tr  \n",
       "1          3.96         12.6   1.0    Tr  \n",
       "2          2.61          8.1   1.0    Tr  \n",
       "3          1.67          7.7   1.0    Tr  \n",
       "4          1.70          8.0   1.0    Tr  "
      ]
     },
     "execution_count": 3,
     "metadata": {},
     "output_type": "execute_result"
    }
   ],
   "source": [
    "\"\"\" \n",
    "View the data\n",
    "\"\"\"\n",
    "feature_df.head()"
   ]
  },
  {
   "cell_type": "code",
   "execution_count": 4,
   "metadata": {},
   "outputs": [
    {
     "name": "stdout",
     "output_type": "stream",
     "text": [
      "First column dropped\n",
      "NAs dropped\n",
      "Extraction complete\n",
      "Columns dropped\n",
      "Converted to numpy\n",
      "Data scaled\n",
      "Converted to pandas\n",
      "Data joined\n"
     ]
    }
   ],
   "source": [
    "\"\"\"\n",
    "Process the data\n",
    "\"\"\"\n",
    "\n",
    "# Delete the first column\n",
    "feature_df = feature_df.drop(columns = ['Unnamed: 0'])\n",
    "print('First column dropped')\n",
    "#feature_df.head()\n",
    "\n",
    "# Drop lhn and adamic-adar\n",
    "feature_df = feature_df.drop(columns = ['lhn','adamic_adar'])\n",
    "\n",
    "# Drop rows with nas\n",
    "#data = data.replace([np.inf, -np.inf], np.nan)\n",
    "feature_df = feature_df.dropna()\n",
    "print('NAs dropped')\n",
    "#feature_df.head()\n",
    "#data = data[pd.notnull(data)]\n",
    "\n",
    "# Standardize the data\n",
    "temp = feature_df[['edge','label']]\n",
    "print('Extraction complete')\n",
    "#temp.head()\n",
    "feature_df = feature_df.drop(columns = ['Node_1','Node_2','edge','label'])\n",
    "print('Columns dropped')\n",
    "#feature_df.head()\n",
    "names = list(feature_df)\n",
    "feature_df = feature_df.values #returns a numpy array\n",
    "print('Converted to numpy')\n",
    "min_max_scaler = preprocessing.MinMaxScaler()\n",
    "feature_df_scaled = min_max_scaler.fit_transform(feature_df)\n",
    "print('Data scaled')\n",
    "feature_df = pd.DataFrame(feature_df_scaled)\n",
    "print('Converted to pandas')\n",
    "#feature_df.head()\n",
    "feature_df.columns = names\n",
    "#feature_df.head()\n",
    "feature_df = feature_df.join(temp.reset_index())\n",
    "print('Data joined')\n",
    "\n",
    "# Drop the index column\n",
    "feature_df = feature_df.drop(columns = ['index'])"
   ]
  },
  {
   "cell_type": "code",
   "execution_count": 5,
   "metadata": {},
   "outputs": [
    {
     "data": {
      "text/html": [
       "<div>\n",
       "<style scoped>\n",
       "    .dataframe tbody tr th:only-of-type {\n",
       "        vertical-align: middle;\n",
       "    }\n",
       "\n",
       "    .dataframe tbody tr th {\n",
       "        vertical-align: top;\n",
       "    }\n",
       "\n",
       "    .dataframe thead th {\n",
       "        text-align: right;\n",
       "    }\n",
       "</style>\n",
       "<table border=\"1\" class=\"dataframe\">\n",
       "  <thead>\n",
       "    <tr style=\"text-align: right;\">\n",
       "      <th></th>\n",
       "      <th>common_neighbors</th>\n",
       "      <th>pref_attach</th>\n",
       "      <th>neighbor_sum</th>\n",
       "      <th>sorensen</th>\n",
       "      <th>cosine_sim</th>\n",
       "      <th>hub_prom</th>\n",
       "      <th>hub_depr</th>\n",
       "      <th>resource_all</th>\n",
       "      <th>local_cluster_sum</th>\n",
       "      <th>local_cluster_prod</th>\n",
       "      <th>local_path001</th>\n",
       "      <th>local_path01</th>\n",
       "      <th>local_path1</th>\n",
       "      <th>edge</th>\n",
       "      <th>label</th>\n",
       "    </tr>\n",
       "  </thead>\n",
       "  <tbody>\n",
       "    <tr>\n",
       "      <th>0</th>\n",
       "      <td>0.019231</td>\n",
       "      <td>0.001285</td>\n",
       "      <td>0.033101</td>\n",
       "      <td>0.285714</td>\n",
       "      <td>0.294174</td>\n",
       "      <td>0.375000</td>\n",
       "      <td>0.230769</td>\n",
       "      <td>0.015767</td>\n",
       "      <td>0.134158</td>\n",
       "      <td>0.016026</td>\n",
       "      <td>0.019370</td>\n",
       "      <td>0.020607</td>\n",
       "      <td>0.016073</td>\n",
       "      <td>1.0</td>\n",
       "      <td>Tr</td>\n",
       "    </tr>\n",
       "    <tr>\n",
       "      <th>1</th>\n",
       "      <td>0.019231</td>\n",
       "      <td>0.003918</td>\n",
       "      <td>0.087108</td>\n",
       "      <td>0.115385</td>\n",
       "      <td>0.169031</td>\n",
       "      <td>0.428571</td>\n",
       "      <td>0.066667</td>\n",
       "      <td>0.004595</td>\n",
       "      <td>0.181674</td>\n",
       "      <td>0.029822</td>\n",
       "      <td>0.019818</td>\n",
       "      <td>0.025032</td>\n",
       "      <td>0.036165</td>\n",
       "      <td>1.0</td>\n",
       "      <td>Tr</td>\n",
       "    </tr>\n",
       "    <tr>\n",
       "      <th>2</th>\n",
       "      <td>0.012821</td>\n",
       "      <td>0.003020</td>\n",
       "      <td>0.059233</td>\n",
       "      <td>0.111111</td>\n",
       "      <td>0.128300</td>\n",
       "      <td>0.222222</td>\n",
       "      <td>0.074074</td>\n",
       "      <td>0.008811</td>\n",
       "      <td>0.128917</td>\n",
       "      <td>0.015195</td>\n",
       "      <td>0.013193</td>\n",
       "      <td>0.016498</td>\n",
       "      <td>0.023249</td>\n",
       "      <td>1.0</td>\n",
       "      <td>Tr</td>\n",
       "    </tr>\n",
       "    <tr>\n",
       "      <th>3</th>\n",
       "      <td>0.006410</td>\n",
       "      <td>0.006864</td>\n",
       "      <td>0.080139</td>\n",
       "      <td>0.041667</td>\n",
       "      <td>0.042601</td>\n",
       "      <td>0.052632</td>\n",
       "      <td>0.034483</td>\n",
       "      <td>0.003401</td>\n",
       "      <td>0.060179</td>\n",
       "      <td>0.003370</td>\n",
       "      <td>0.006830</td>\n",
       "      <td>0.010556</td>\n",
       "      <td>0.022101</td>\n",
       "      <td>1.0</td>\n",
       "      <td>Tr</td>\n",
       "    </tr>\n",
       "    <tr>\n",
       "      <th>4</th>\n",
       "      <td>0.006410</td>\n",
       "      <td>0.003582</td>\n",
       "      <td>0.090592</td>\n",
       "      <td>0.037037</td>\n",
       "      <td>0.058926</td>\n",
       "      <td>0.166667</td>\n",
       "      <td>0.020833</td>\n",
       "      <td>0.005874</td>\n",
       "      <td>0.068794</td>\n",
       "      <td>0.004728</td>\n",
       "      <td>0.006849</td>\n",
       "      <td>0.010746</td>\n",
       "      <td>0.022962</td>\n",
       "      <td>1.0</td>\n",
       "      <td>Tr</td>\n",
       "    </tr>\n",
       "  </tbody>\n",
       "</table>\n",
       "</div>"
      ],
      "text/plain": [
       "   common_neighbors  pref_attach  neighbor_sum  sorensen  cosine_sim  \\\n",
       "0          0.019231     0.001285      0.033101  0.285714    0.294174   \n",
       "1          0.019231     0.003918      0.087108  0.115385    0.169031   \n",
       "2          0.012821     0.003020      0.059233  0.111111    0.128300   \n",
       "3          0.006410     0.006864      0.080139  0.041667    0.042601   \n",
       "4          0.006410     0.003582      0.090592  0.037037    0.058926   \n",
       "\n",
       "   hub_prom  hub_depr  resource_all  local_cluster_sum  local_cluster_prod  \\\n",
       "0  0.375000  0.230769      0.015767           0.134158            0.016026   \n",
       "1  0.428571  0.066667      0.004595           0.181674            0.029822   \n",
       "2  0.222222  0.074074      0.008811           0.128917            0.015195   \n",
       "3  0.052632  0.034483      0.003401           0.060179            0.003370   \n",
       "4  0.166667  0.020833      0.005874           0.068794            0.004728   \n",
       "\n",
       "   local_path001  local_path01  local_path1  edge label  \n",
       "0       0.019370      0.020607     0.016073   1.0    Tr  \n",
       "1       0.019818      0.025032     0.036165   1.0    Tr  \n",
       "2       0.013193      0.016498     0.023249   1.0    Tr  \n",
       "3       0.006830      0.010556     0.022101   1.0    Tr  \n",
       "4       0.006849      0.010746     0.022962   1.0    Tr  "
      ]
     },
     "execution_count": 5,
     "metadata": {},
     "output_type": "execute_result"
    }
   ],
   "source": [
    "\"\"\" \n",
    "View the data\n",
    "\"\"\"\n",
    "feature_df.head()"
   ]
  },
  {
   "cell_type": "code",
   "execution_count": 6,
   "metadata": {},
   "outputs": [],
   "source": [
    "\"\"\" \n",
    "Separate into train/valid/test\n",
    "\"\"\"\n",
    "train = feature_df[feature_df['label'] == 'Tr']\n",
    "test = feature_df[feature_df['label'] == 'T']\n",
    "\n",
    "# Separate out values\n",
    "y_train = train['edge']\n",
    "x_train = train.drop(columns = ['edge', 'label'])\n",
    "y_test = test['edge']\n",
    "x_test = test.drop(columns = ['edge', 'label'])"
   ]
  },
  {
   "cell_type": "code",
   "execution_count": 7,
   "metadata": {},
   "outputs": [],
   "source": [
    "\"\"\"\n",
    "Storage vectors\n",
    "\"\"\"\n",
    "models_running = 6\n",
    "acc = np.zeros(models_running)\n",
    "prec = np.zeros(models_running)\n",
    "rec = np.zeros(models_running)"
   ]
  },
  {
   "cell_type": "code",
   "execution_count": 8,
   "metadata": {},
   "outputs": [
    {
     "data": {
      "image/png": "[encoded data removed]",
      "text/plain": [
       "<Figure size 576x576 with 1 Axes>"
      ]
     },
     "metadata": {},
     "output_type": "display_data"
    }
   ],
   "source": [
    "\"\"\"\n",
    "Logistic Regression Classifier\n",
    "\"\"\"\n",
    "\n",
    "# Create the model and display the loss function\n",
    "old_stdout = sys.stdout\n",
    "sys.stdout = mystdout = io.StringIO()\n",
    "logistic = SGDClassifier(random_state=345, loss = 'log', max_iter = 10000, tol = .001, verbose = 1)\n",
    "clf = logistic.fit(x_train, y_train)\n",
    "sys.stdout = old_stdout\n",
    "loss_history = mystdout.getvalue()\n",
    "loss_list = []\n",
    "for line in loss_history.split('\\n'):\n",
    "    if(len(line.split(\"loss: \")) == 1):\n",
    "        continue\n",
    "    loss_list.append(float(line.split(\"loss: \")[-1]))\n",
    "plt.figure(figsize = (8,8))\n",
    "plt.plot(np.arange(len(loss_list)), loss_list)\n",
    "plt.title('Loss Function over Epoches')\n",
    "plt.xlabel(\"Time in epochs\")\n",
    "plt.ylabel(\"Loss\")\n",
    "plt.show()"
   ]
  },
  {
   "cell_type": "code",
   "execution_count": 9,
   "metadata": {},
   "outputs": [
    {
     "name": "stdout",
     "output_type": "stream",
     "text": [
      "Coefficients = \n",
      "[['common_neighbors' '1.1936344264853318']\n",
      " ['pref_attach' '1.2333503246256219']\n",
      " ['neighbor_sum' '9.729550261175754']\n",
      " ['sorensen' '7.7044957100606055']\n",
      " ['cosine_sim' '8.259557063621472']\n",
      " ['hub_prom' '11.659342171280647']\n",
      " ['hub_depr' '6.127395841910865']\n",
      " ['resource_all' '0.5850520102210199']\n",
      " ['local_cluster_sum' '-6.514333727916554']\n",
      " ['local_cluster_prod' '-0.654345606486164']\n",
      " ['local_path001' '1.5152206411056017']\n",
      " ['local_path01' '4.275824724208223']\n",
      " ['local_path1' '14.562894659964318']]\n"
     ]
    }
   ],
   "source": [
    "\"\"\"\n",
    "Predict values \n",
    "\"\"\"\n",
    "\n",
    "# Construct confusion matrix\n",
    "y_pred = clf.predict(x_test)\n",
    "mat = confusion_matrix(y_test, y_pred)\n",
    "\n",
    "# Compute accuracy, precision, recall\n",
    "acc[0] = (mat[0][0] + mat[1][1])/np.sum(mat)\n",
    "prec[0] = mat[1][1]/(mat[1][1]+mat[1][0])\n",
    "rec[0] = mat[1][1]/(mat[1][1]+mat[0][1])\n",
    "\n",
    "# Get the coefficients\n",
    "coef = clf.coef_[0]\n",
    "coef_pairs = np.stack((np.array(list(train)[:-2]), coef), axis = -1)\n",
    "print('Coefficients = ', coef_pairs, sep = '\\n')"
   ]
  },
  {
   "cell_type": "code",
   "execution_count": 10,
   "metadata": {},
   "outputs": [
    {
     "data": {
      "text/plain": [
       "array([[155272,   4673],\n",
       "       [ 41463, 129856]], dtype=int64)"
      ]
     },
     "execution_count": 10,
     "metadata": {},
     "output_type": "execute_result"
    }
   ],
   "source": [
    "mat"
   ]
  },
  {
   "cell_type": "code",
   "execution_count": 11,
   "metadata": {},
   "outputs": [
    {
     "data": {
      "image/png": "[encoded data removed]",
      "text/plain": [
       "<Figure size 576x576 with 1 Axes>"
      ]
     },
     "metadata": {},
     "output_type": "display_data"
    }
   ],
   "source": [
    "\"\"\"\n",
    "SVM Classifier\n",
    "\"\"\"\n",
    "\n",
    "# Create the model and display the loss function\n",
    "old_stdout = sys.stdout\n",
    "sys.stdout = mystdout = io.StringIO()\n",
    "svm = SGDClassifier(random_state=345, loss = 'hinge', max_iter = 10000, tol = .001, verbose = 1)\n",
    "clf = svm.fit(x_train, y_train)\n",
    "sys.stdout = old_stdout\n",
    "loss_history = mystdout.getvalue()\n",
    "loss_list = []\n",
    "for line in loss_history.split('\\n'):\n",
    "    if(len(line.split(\"loss: \")) == 1):\n",
    "        continue\n",
    "    loss_list.append(float(line.split(\"loss: \")[-1]))\n",
    "plt.figure(figsize = (8,8))\n",
    "plt.plot(np.arange(len(loss_list)), loss_list)\n",
    "plt.title('Loss Function over Epoches')\n",
    "plt.xlabel(\"Time in epochs\")\n",
    "plt.ylabel(\"Loss\")\n",
    "plt.show()"
   ]
  },
  {
   "cell_type": "code",
   "execution_count": 12,
   "metadata": {},
   "outputs": [
    {
     "name": "stdout",
     "output_type": "stream",
     "text": [
      "Coefficients = \n",
      "[['common_neighbors' '1.1616781376984633']\n",
      " ['pref_attach' '1.5136622218701838']\n",
      " ['neighbor_sum' '3.3725961299502725']\n",
      " ['sorensen' '6.372309328438634']\n",
      " ['cosine_sim' '6.351150212485324']\n",
      " ['hub_prom' '6.8590711527560915']\n",
      " ['hub_depr' '5.431487104217439']\n",
      " ['resource_all' '0.5782778005004151']\n",
      " ['local_cluster_sum' '-1.0676502034360102']\n",
      " ['local_cluster_prod' '0.12786578063454646']\n",
      " ['local_path001' '1.6858668699394497']\n",
      " ['local_path01' '6.208352225126386']\n",
      " ['local_path1' '23.450382657726347']]\n"
     ]
    }
   ],
   "source": [
    "\"\"\"\n",
    "Predict values\n",
    "\"\"\"\n",
    "\n",
    "# Construct confusion matrix\n",
    "y_pred = clf.predict(x_test)\n",
    "mat = confusion_matrix(y_test, y_pred)\n",
    "\n",
    "# Compute accuracy, precision, recall\n",
    "acc[1] = (mat[0][0] + mat[1][1])/np.sum(mat)\n",
    "prec[1] = mat[1][1]/(mat[1][1]+mat[1][0])\n",
    "rec[1] = mat[1][1]/(mat[1][1]+mat[0][1])\n",
    "\n",
    "# Get the coefficients\n",
    "coef = clf.coef_[0]\n",
    "coef_pairs = np.stack((np.array(list(train)[:-2]), coef), axis = -1)\n",
    "print('Coefficients = ', coef_pairs, sep = '\\n')"
   ]
  },
  {
   "cell_type": "code",
   "execution_count": 13,
   "metadata": {},
   "outputs": [
    {
     "data": {
      "text/plain": [
       "array([[158517,   1428],\n",
       "       [ 46831, 124488]], dtype=int64)"
      ]
     },
     "execution_count": 13,
     "metadata": {},
     "output_type": "execute_result"
    }
   ],
   "source": [
    "mat"
   ]
  },
  {
   "cell_type": "code",
   "execution_count": 14,
   "metadata": {},
   "outputs": [
    {
     "data": {
      "image/png": "[encoded data removed]",
      "text/plain": [
       "<Figure size 576x576 with 1 Axes>"
      ]
     },
     "metadata": {},
     "output_type": "display_data"
    }
   ],
   "source": [
    "\"\"\"\n",
    "Perceptron Classifier\n",
    "\"\"\"\n",
    "\n",
    "# Create the model and display the loss function\n",
    "old_stdout = sys.stdout\n",
    "sys.stdout = mystdout = io.StringIO()\n",
    "svm = SGDClassifier(random_state=345, loss = 'perceptron', max_iter = 30, tol = .001, verbose = 1)\n",
    "clf = svm.fit(x_train, y_train)\n",
    "sys.stdout = old_stdout\n",
    "loss_history = mystdout.getvalue()\n",
    "loss_list = []\n",
    "for line in loss_history.split('\\n'):\n",
    "    if(len(line.split(\"loss: \")) == 1):\n",
    "        continue\n",
    "    loss_list.append(float(line.split(\"loss: \")[-1]))\n",
    "plt.figure(figsize = (8,8))\n",
    "plt.plot(np.arange(len(loss_list)), loss_list)\n",
    "plt.title('Loss Function over Epoches')\n",
    "plt.xlabel(\"Time in epochs\")\n",
    "plt.ylabel(\"Loss\")\n",
    "plt.show()"
   ]
  },
  {
   "cell_type": "code",
   "execution_count": 15,
   "metadata": {},
   "outputs": [
    {
     "name": "stdout",
     "output_type": "stream",
     "text": [
      "Coefficients = \n",
      "[['common_neighbors' '-0.06288331929665092']\n",
      " ['pref_attach' '-0.028396105108615587']\n",
      " ['neighbor_sum' '-0.09408333799747216']\n",
      " ['sorensen' '0.0034064734971843416']\n",
      " ['cosine_sim' '0.004058262010442771']\n",
      " ['hub_prom' '-0.0012329072322512509']\n",
      " ['hub_depr' '-0.0009578872247990364']\n",
      " ['resource_all' '0.03134068933593406']\n",
      " ['local_cluster_sum' '-0.0002570280148715506']\n",
      " ['local_cluster_prod' '-2.1755181427597627e-05']\n",
      " ['local_path001' '-0.046134391248338645']\n",
      " ['local_path01' '0.09682660753423043']\n",
      " ['local_path1' '0.6904960058531059']]\n"
     ]
    }
   ],
   "source": [
    "\"\"\"\n",
    "Predict values\n",
    "\"\"\"\n",
    "\n",
    "# Construct confusion matrix\n",
    "y_pred = clf.predict(x_test)\n",
    "mat = confusion_matrix(y_test, y_pred)\n",
    "\n",
    "# Compute accuracy, precision, recall\n",
    "acc[2] = (mat[0][0] + mat[1][1])/np.sum(mat)\n",
    "prec[2] = mat[1][1]/(mat[1][1]+mat[1][0])\n",
    "rec[2] = mat[1][1]/(mat[1][1]+mat[0][1])\n",
    "\n",
    "# Get the coefficients\n",
    "coef = clf.coef_[0]\n",
    "coef_pairs = np.stack((np.array(list(train)[:-2]), coef), axis = -1)\n",
    "print('Coefficients = ', coef_pairs, sep = '\\n')"
   ]
  },
  {
   "cell_type": "code",
   "execution_count": 16,
   "metadata": {},
   "outputs": [
    {
     "data": {
      "text/plain": [
       "array([[159434,    511],\n",
       "       [ 78058,  93261]], dtype=int64)"
      ]
     },
     "execution_count": 16,
     "metadata": {},
     "output_type": "execute_result"
    }
   ],
   "source": [
    "mat"
   ]
  },
  {
   "cell_type": "code",
   "execution_count": 17,
   "metadata": {},
   "outputs": [],
   "source": [
    "\"\"\"\n",
    "Random Forest Classifier\n",
    "\"\"\"\n",
    "\n",
    "# Create the model and display the loss function\n",
    "forest = RandomForestClassifier(n_estimators=100, max_depth=5, random_state=345, verbose = 0)\n",
    "clf = forest.fit(x_train, y_train)"
   ]
  },
  {
   "cell_type": "code",
   "execution_count": 18,
   "metadata": {},
   "outputs": [
    {
     "name": "stdout",
     "output_type": "stream",
     "text": [
      "Importance = \n",
      "[['local_cluster_prod' '0.002424739738010245']\n",
      " ['local_cluster_sum' '0.0031645116124443527']\n",
      " ['neighbor_sum' '0.005855204298243944']\n",
      " ['pref_attach' '0.007500786474447559']\n",
      " ['common_neighbors' '0.010885919831967763']\n",
      " ['sorensen' '0.03261602661630768']\n",
      " ['resource_all' '0.03769296359342278']\n",
      " ['hub_prom' '0.04333232754424965']\n",
      " ['cosine_sim' '0.04477622181241445']\n",
      " ['hub_depr' '0.04862543106127365']\n",
      " ['local_path001' '0.24871775643786864']\n",
      " ['local_path1' '0.2512067008775673']\n",
      " ['local_path01' '0.263201410101782']]\n"
     ]
    }
   ],
   "source": [
    "\"\"\"\n",
    "Predict values\n",
    "\"\"\"\n",
    "\n",
    "# Construct confusion matrix\n",
    "y_pred = clf.predict(x_test)\n",
    "mat = confusion_matrix(y_test, y_pred)\n",
    "\n",
    "# Compute accuracy, precision, recall\n",
    "acc[3] = (mat[0][0] + mat[1][1])/np.sum(mat)\n",
    "prec[3] = mat[1][1]/(mat[1][1]+mat[1][0])\n",
    "rec[3] = mat[1][1]/(mat[1][1]+mat[0][1])\n",
    "\n",
    "# Get variable importance\n",
    "imp = clf.feature_importances_\n",
    "ind = np.argsort(imp)\n",
    "coef_pairs = np.stack((np.array(list(train)[:-2])[ind], imp[ind]), axis = -1)\n",
    "print('Importance = ', coef_pairs, sep = '\\n')"
   ]
  },
  {
   "cell_type": "code",
   "execution_count": 19,
   "metadata": {},
   "outputs": [
    {
     "data": {
      "text/plain": [
       "array([[158855,   1090],\n",
       "       [ 46164, 125155]], dtype=int64)"
      ]
     },
     "execution_count": 19,
     "metadata": {},
     "output_type": "execute_result"
    }
   ],
   "source": [
    "mat"
   ]
  },
  {
   "cell_type": "code",
   "execution_count": 20,
   "metadata": {},
   "outputs": [],
   "source": [
    "\"\"\"\n",
    "Adaboost Classifier\n",
    "\"\"\"\n",
    "\n",
    "# Create the model and display the loss function\n",
    "adaboy = AdaBoostClassifier(random_state=345)\n",
    "clf = adaboy.fit(x_train, y_train)"
   ]
  },
  {
   "cell_type": "code",
   "execution_count": 21,
   "metadata": {},
   "outputs": [
    {
     "name": "stdout",
     "output_type": "stream",
     "text": [
      "Importance = \n",
      "[['local_cluster_prod' '0.04']\n",
      " ['local_cluster_sum' '0.02']\n",
      " ['neighbor_sum' '0.16']\n",
      " ['pref_attach' '0.16']\n",
      " ['common_neighbors' '0.02']\n",
      " ['sorensen' '0.02']\n",
      " ['resource_all' '0.04']\n",
      " ['hub_prom' '0.04']\n",
      " ['cosine_sim' '0.04']\n",
      " ['hub_depr' '0.02']\n",
      " ['local_path001' '0.02']\n",
      " ['local_path1' '0.38']\n",
      " ['local_path01' '0.04']]\n"
     ]
    }
   ],
   "source": [
    "\"\"\"\n",
    "Predict values\n",
    "\"\"\"\n",
    "\n",
    "# Construct confusion matrix\n",
    "y_pred = clf.predict(x_test)\n",
    "mat = confusion_matrix(y_test, y_pred)\n",
    "\n",
    "# Compute accuracy, precision, recall\n",
    "acc[4] = (mat[0][0] + mat[1][1])/np.sum(mat)\n",
    "prec[4] = mat[1][1]/(mat[1][1]+mat[1][0])\n",
    "rec[4] = mat[1][1]/(mat[1][1]+mat[0][1])\n",
    "\n",
    "# Get variable importance\n",
    "ind = np.argsort(imp)\n",
    "imp = clf.feature_importances_\n",
    "coef_pairs = np.stack((np.array(list(train)[:-2])[ind], imp[ind]), axis = -1)\n",
    "print('Importance = ', coef_pairs, sep = '\\n')"
   ]
  },
  {
   "cell_type": "code",
   "execution_count": 22,
   "metadata": {},
   "outputs": [
    {
     "data": {
      "text/plain": [
       "array([[159230,    715],\n",
       "       [ 55374, 115945]], dtype=int64)"
      ]
     },
     "execution_count": 22,
     "metadata": {},
     "output_type": "execute_result"
    }
   ],
   "source": [
    "mat"
   ]
  },
  {
   "cell_type": "code",
   "execution_count": 23,
   "metadata": {},
   "outputs": [],
   "source": [
    "\"\"\"\n",
    "Naive Bayes Classifier\n",
    "\"\"\"\n",
    "\n",
    "# Create the model and display the loss function\n",
    "naive = BernoulliNB()\n",
    "clf = naive.fit(x_train, y_train)"
   ]
  },
  {
   "cell_type": "code",
   "execution_count": 24,
   "metadata": {},
   "outputs": [],
   "source": [
    "\"\"\"\n",
    "Predict values\n",
    "\"\"\"\n",
    "\n",
    "# Construct confusion matrix\n",
    "y_pred = clf.predict(x_test)\n",
    "mat = confusion_matrix(y_test, y_pred)\n",
    "\n",
    "# Compute accuracy, precision, recall\n",
    "acc[5] = (mat[0][0] + mat[1][1])/np.sum(mat)\n",
    "prec[5] = mat[1][1]/(mat[1][1]+mat[1][0])\n",
    "rec[5] = mat[1][1]/(mat[1][1]+mat[0][1])"
   ]
  },
  {
   "cell_type": "code",
   "execution_count": 25,
   "metadata": {},
   "outputs": [
    {
     "data": {
      "text/plain": [
       "array([[150252,   9693],\n",
       "       [ 18578, 152741]], dtype=int64)"
      ]
     },
     "execution_count": 25,
     "metadata": {},
     "output_type": "execute_result"
    }
   ],
   "source": [
    "mat"
   ]
  },
  {
   "cell_type": "code",
   "execution_count": 26,
   "metadata": {},
   "outputs": [
    {
     "data": {
      "text/plain": [
       "array([[0.860727, 0.757978, 0.965264],\n",
       "       [0.854319, 0.726644, 0.988659],\n",
       "       [0.762821, 0.544370, 0.994551],\n",
       "       [0.857352, 0.730538, 0.991366],\n",
       "       [0.830682, 0.676778, 0.993871],\n",
       "       [0.914657, 0.891559, 0.940327]])"
      ]
     },
     "execution_count": 26,
     "metadata": {},
     "output_type": "execute_result"
    }
   ],
   "source": [
    "\"\"\"\n",
    "Concatenate vectors\n",
    "\"\"\"\n",
    "results = np.stack((acc, prec, rec)).transpose()\n",
    "results"
   ]
  },
  {
   "cell_type": "code",
   "execution_count": 27,
   "metadata": {},
   "outputs": [],
   "source": [
    "\"\"\"\n",
    "Save to csv\n",
    "\"\"\"\n",
    "mytable = pd.DataFrame(data=results,    # values\n",
    "            index=['Logistic','SVM','Perceptron','Random Forest','Adaboost','Naive Bayes'],\n",
    "            columns=['Accuracy','Precision','Recall'])\n",
    "mytable.to_csv('hepPH_50' + '.csv')"
   ]
  },
  {
   "cell_type": "code",
   "execution_count": null,
   "metadata": {},
   "outputs": [],
   "source": []
  }
 ],
 "metadata": {
  "kernelspec": {
   "display_name": "Python 3",
   "language": "python",
   "name": "python3"
  },
  "language_info": {
   "codemirror_mode": {
    "name": "ipython",
    "version": 3
   },
   "file_extension": ".py",
   "mimetype": "text/x-python",
   "name": "python",
   "nbconvert_exporter": "python",
   "pygments_lexer": "ipython3",
   "version": "3.6.5"
  }
 },
 "nbformat": 4,
 "nbformat_minor": 2
}
