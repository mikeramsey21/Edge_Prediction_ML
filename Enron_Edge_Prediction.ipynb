{
 "cells": [
  {
   "cell_type": "code",
   "execution_count": 1,
   "metadata": {},
   "outputs": [
    {
     "name": "stderr",
     "output_type": "stream",
     "text": [
      "C:\\Users\\mikee\\Anaconda3\\lib\\site-packages\\h5py\\__init__.py:36: FutureWarning: Conversion of the second argument of issubdtype from `float` to `np.floating` is deprecated. In future, it will be treated as `np.float64 == np.dtype(float).type`.\n",
      "  from ._conv import register_converters as _register_converters\n"
     ]
    }
   ],
   "source": [
    "\"\"\"\n",
    "Michael E. Ramsey\n",
    "CSCI 5352\n",
    "Date Created: 11/05/18\n",
    "Last Edited: 12/05/18\n",
    "\n",
    "This is a python script to create edge prediction models with the features created by:\n",
    "\"Enron_Feature_Construction.ipynb\".\n",
    "\n",
    "I implement several different machine learning models and check out aspects of all.\n",
    "\"\"\"\n",
    "\n",
    "# Get necessary libraries\n",
    "import sys\n",
    "import io\n",
    "from os import listdir\n",
    "from os.path import isfile, join\n",
    "import matplotlib.pyplot as plt\n",
    "import pandas as pd\n",
    "import tensorflow as tf\n",
    "import numpy as np\n",
    "from random import randint\n",
    "from sklearn.model_selection import train_test_split\n",
    "from sklearn import preprocessing\n",
    "from sklearn.linear_model import LogisticRegression\n",
    "from sklearn.linear_model import SGDClassifier\n",
    "from sklearn.neighbors import KNeighborsClassifier\n",
    "from sklearn.ensemble import RandomForestClassifier\n",
    "from sklearn.ensemble import AdaBoostClassifier\n",
    "from sklearn.naive_bayes import BernoulliNB\n",
    "from sklearn.metrics import confusion_matrix\n",
    "np.set_printoptions(formatter={'float_kind':'{:f}'.format})"
   ]
  },
  {
   "cell_type": "code",
   "execution_count": 2,
   "metadata": {},
   "outputs": [],
   "source": [
    "\"\"\"\n",
    "Load the data frame\n",
    "\"\"\"\n",
    "# Set your file path here \n",
    "filepath = \"Enron_Features/\"\n",
    "filename = 'Enron_2002_4.csv'\n",
    "# Load the data\n",
    "feature_df = pd.read_csv(filepath + filename)"
   ]
  },
  {
   "cell_type": "code",
   "execution_count": 3,
   "metadata": {},
   "outputs": [
    {
     "data": {
      "text/html": [
       "<div>\n",
       "<style scoped>\n",
       "    .dataframe tbody tr th:only-of-type {\n",
       "        vertical-align: middle;\n",
       "    }\n",
       "\n",
       "    .dataframe tbody tr th {\n",
       "        vertical-align: top;\n",
       "    }\n",
       "\n",
       "    .dataframe thead th {\n",
       "        text-align: right;\n",
       "    }\n",
       "</style>\n",
       "<table border=\"1\" class=\"dataframe\">\n",
       "  <thead>\n",
       "    <tr style=\"text-align: right;\">\n",
       "      <th></th>\n",
       "      <th>Unnamed: 0</th>\n",
       "      <th>Node_1</th>\n",
       "      <th>Node_2</th>\n",
       "      <th>shortest_path</th>\n",
       "      <th>common_neighbors</th>\n",
       "      <th>pref_attach</th>\n",
       "      <th>neighbor_sum</th>\n",
       "      <th>sorensen</th>\n",
       "      <th>cosine_sim</th>\n",
       "      <th>hub_prom</th>\n",
       "      <th>...</th>\n",
       "      <th>lhn</th>\n",
       "      <th>adamic_adar</th>\n",
       "      <th>resource_all</th>\n",
       "      <th>local_cluster_sum</th>\n",
       "      <th>local_cluster_prod</th>\n",
       "      <th>local_path001</th>\n",
       "      <th>local_path01</th>\n",
       "      <th>local_path1</th>\n",
       "      <th>edge</th>\n",
       "      <th>label</th>\n",
       "    </tr>\n",
       "  </thead>\n",
       "  <tbody>\n",
       "    <tr>\n",
       "      <th>0</th>\n",
       "      <td>0</td>\n",
       "      <td>29</td>\n",
       "      <td>50</td>\n",
       "      <td>1.0</td>\n",
       "      <td>6.0</td>\n",
       "      <td>280.0</td>\n",
       "      <td>34.0</td>\n",
       "      <td>0.176471</td>\n",
       "      <td>0.358569</td>\n",
       "      <td>0.428571</td>\n",
       "      <td>...</td>\n",
       "      <td>0.021429</td>\n",
       "      <td>2.216395</td>\n",
       "      <td>0.431547</td>\n",
       "      <td>0.623482</td>\n",
       "      <td>0.097166</td>\n",
       "      <td>6.099</td>\n",
       "      <td>6.99</td>\n",
       "      <td>15.9</td>\n",
       "      <td>1.0</td>\n",
       "      <td>Tr</td>\n",
       "    </tr>\n",
       "    <tr>\n",
       "      <th>1</th>\n",
       "      <td>1</td>\n",
       "      <td>72</td>\n",
       "      <td>118</td>\n",
       "      <td>1.0</td>\n",
       "      <td>0.0</td>\n",
       "      <td>165.0</td>\n",
       "      <td>38.0</td>\n",
       "      <td>0.000000</td>\n",
       "      <td>0.000000</td>\n",
       "      <td>0.000000</td>\n",
       "      <td>...</td>\n",
       "      <td>0.000000</td>\n",
       "      <td>0.000000</td>\n",
       "      <td>0.000000</td>\n",
       "      <td>0.351515</td>\n",
       "      <td>0.030303</td>\n",
       "      <td>0.053</td>\n",
       "      <td>0.53</td>\n",
       "      <td>5.3</td>\n",
       "      <td>1.0</td>\n",
       "      <td>Tr</td>\n",
       "    </tr>\n",
       "    <tr>\n",
       "      <th>2</th>\n",
       "      <td>2</td>\n",
       "      <td>21</td>\n",
       "      <td>28</td>\n",
       "      <td>1.0</td>\n",
       "      <td>2.0</td>\n",
       "      <td>48.0</td>\n",
       "      <td>16.0</td>\n",
       "      <td>0.125000</td>\n",
       "      <td>0.288675</td>\n",
       "      <td>0.500000</td>\n",
       "      <td>...</td>\n",
       "      <td>0.041667</td>\n",
       "      <td>1.678872</td>\n",
       "      <td>0.514493</td>\n",
       "      <td>0.575758</td>\n",
       "      <td>0.080808</td>\n",
       "      <td>2.024</td>\n",
       "      <td>2.24</td>\n",
       "      <td>4.4</td>\n",
       "      <td>1.0</td>\n",
       "      <td>Tr</td>\n",
       "    </tr>\n",
       "    <tr>\n",
       "      <th>3</th>\n",
       "      <td>3</td>\n",
       "      <td>86</td>\n",
       "      <td>90</td>\n",
       "      <td>1.0</td>\n",
       "      <td>2.0</td>\n",
       "      <td>69.0</td>\n",
       "      <td>26.0</td>\n",
       "      <td>0.076923</td>\n",
       "      <td>0.240772</td>\n",
       "      <td>0.666667</td>\n",
       "      <td>...</td>\n",
       "      <td>0.028986</td>\n",
       "      <td>0.806904</td>\n",
       "      <td>0.167832</td>\n",
       "      <td>1.173913</td>\n",
       "      <td>0.173913</td>\n",
       "      <td>2.042</td>\n",
       "      <td>2.42</td>\n",
       "      <td>6.2</td>\n",
       "      <td>1.0</td>\n",
       "      <td>Tr</td>\n",
       "    </tr>\n",
       "    <tr>\n",
       "      <th>4</th>\n",
       "      <td>4</td>\n",
       "      <td>49</td>\n",
       "      <td>116</td>\n",
       "      <td>1.0</td>\n",
       "      <td>5.0</td>\n",
       "      <td>162.0</td>\n",
       "      <td>27.0</td>\n",
       "      <td>0.185185</td>\n",
       "      <td>0.392837</td>\n",
       "      <td>0.555556</td>\n",
       "      <td>...</td>\n",
       "      <td>0.030864</td>\n",
       "      <td>1.764959</td>\n",
       "      <td>0.304167</td>\n",
       "      <td>0.849673</td>\n",
       "      <td>0.180102</td>\n",
       "      <td>5.071</td>\n",
       "      <td>5.71</td>\n",
       "      <td>12.1</td>\n",
       "      <td>1.0</td>\n",
       "      <td>Tr</td>\n",
       "    </tr>\n",
       "  </tbody>\n",
       "</table>\n",
       "<p>5 rows × 21 columns</p>\n",
       "</div>"
      ],
      "text/plain": [
       "   Unnamed: 0  Node_1  Node_2  shortest_path  common_neighbors  pref_attach  \\\n",
       "0           0      29      50            1.0               6.0        280.0   \n",
       "1           1      72     118            1.0               0.0        165.0   \n",
       "2           2      21      28            1.0               2.0         48.0   \n",
       "3           3      86      90            1.0               2.0         69.0   \n",
       "4           4      49     116            1.0               5.0        162.0   \n",
       "\n",
       "   neighbor_sum  sorensen  cosine_sim  hub_prom  ...         lhn  adamic_adar  \\\n",
       "0          34.0  0.176471    0.358569  0.428571  ...    0.021429     2.216395   \n",
       "1          38.0  0.000000    0.000000  0.000000  ...    0.000000     0.000000   \n",
       "2          16.0  0.125000    0.288675  0.500000  ...    0.041667     1.678872   \n",
       "3          26.0  0.076923    0.240772  0.666667  ...    0.028986     0.806904   \n",
       "4          27.0  0.185185    0.392837  0.555556  ...    0.030864     1.764959   \n",
       "\n",
       "   resource_all  local_cluster_sum  local_cluster_prod  local_path001  \\\n",
       "0      0.431547           0.623482            0.097166          6.099   \n",
       "1      0.000000           0.351515            0.030303          0.053   \n",
       "2      0.514493           0.575758            0.080808          2.024   \n",
       "3      0.167832           1.173913            0.173913          2.042   \n",
       "4      0.304167           0.849673            0.180102          5.071   \n",
       "\n",
       "   local_path01  local_path1  edge  label  \n",
       "0          6.99         15.9   1.0     Tr  \n",
       "1          0.53          5.3   1.0     Tr  \n",
       "2          2.24          4.4   1.0     Tr  \n",
       "3          2.42          6.2   1.0     Tr  \n",
       "4          5.71         12.1   1.0     Tr  \n",
       "\n",
       "[5 rows x 21 columns]"
      ]
     },
     "execution_count": 3,
     "metadata": {},
     "output_type": "execute_result"
    }
   ],
   "source": [
    "\"\"\" \n",
    "View the data\n",
    "\"\"\"\n",
    "feature_df.head()"
   ]
  },
  {
   "cell_type": "code",
   "execution_count": 4,
   "metadata": {},
   "outputs": [
    {
     "name": "stdout",
     "output_type": "stream",
     "text": [
      "First column dropped\n",
      "NAs dropped\n",
      "Extraction complete\n",
      "Columns dropped\n",
      "Converted to numpy\n",
      "Data scaled\n",
      "Converted to pandas\n",
      "Data joined\n"
     ]
    }
   ],
   "source": [
    "\"\"\"\n",
    "Process the data\n",
    "\"\"\"\n",
    "\n",
    "# Delete the first column\n",
    "feature_df = feature_df.drop(columns = ['Unnamed: 0'])\n",
    "print('First column dropped')\n",
    "#feature_df.head()\n",
    "\n",
    "# Drop lhn and adamic-adar\n",
    "feature_df = feature_df.drop(columns = ['lhn','adamic_adar'])\n",
    "\n",
    "# Drop rows with nas\n",
    "#data = data.replace([np.inf, -np.inf], np.nan)\n",
    "feature_df = feature_df.dropna()\n",
    "print('NAs dropped')\n",
    "#feature_df.head()\n",
    "#data = data[pd.notnull(data)]\n",
    "\n",
    "# Standardize the data\n",
    "temp = feature_df[['edge','label']]\n",
    "print('Extraction complete')\n",
    "#temp.head()\n",
    "feature_df = feature_df.drop(columns = ['Node_1','Node_2','edge','label'])\n",
    "print('Columns dropped')\n",
    "#feature_df.head()\n",
    "names = list(feature_df)\n",
    "feature_df = feature_df.values #returns a numpy array\n",
    "print('Converted to numpy')\n",
    "min_max_scaler = preprocessing.MinMaxScaler()\n",
    "feature_df_scaled = min_max_scaler.fit_transform(feature_df)\n",
    "print('Data scaled')\n",
    "feature_df = pd.DataFrame(feature_df_scaled)\n",
    "print('Converted to pandas')\n",
    "#feature_df.head()\n",
    "feature_df.columns = names\n",
    "#feature_df.head()\n",
    "feature_df = feature_df.join(temp.reset_index())\n",
    "print('Data joined')\n",
    "\n",
    "# Drop the index column\n",
    "feature_df = feature_df.drop(columns = ['index'])"
   ]
  },
  {
   "cell_type": "code",
   "execution_count": 5,
   "metadata": {},
   "outputs": [
    {
     "data": {
      "text/html": [
       "<div>\n",
       "<style scoped>\n",
       "    .dataframe tbody tr th:only-of-type {\n",
       "        vertical-align: middle;\n",
       "    }\n",
       "\n",
       "    .dataframe tbody tr th {\n",
       "        vertical-align: top;\n",
       "    }\n",
       "\n",
       "    .dataframe thead th {\n",
       "        text-align: right;\n",
       "    }\n",
       "</style>\n",
       "<table border=\"1\" class=\"dataframe\">\n",
       "  <thead>\n",
       "    <tr style=\"text-align: right;\">\n",
       "      <th></th>\n",
       "      <th>shortest_path</th>\n",
       "      <th>common_neighbors</th>\n",
       "      <th>pref_attach</th>\n",
       "      <th>neighbor_sum</th>\n",
       "      <th>sorensen</th>\n",
       "      <th>cosine_sim</th>\n",
       "      <th>hub_prom</th>\n",
       "      <th>hub_depr</th>\n",
       "      <th>resource_all</th>\n",
       "      <th>local_cluster_sum</th>\n",
       "      <th>local_cluster_prod</th>\n",
       "      <th>local_path001</th>\n",
       "      <th>local_path01</th>\n",
       "      <th>local_path1</th>\n",
       "      <th>edge</th>\n",
       "      <th>label</th>\n",
       "    </tr>\n",
       "  </thead>\n",
       "  <tbody>\n",
       "    <tr>\n",
       "      <th>0</th>\n",
       "      <td>0.2</td>\n",
       "      <td>0.171429</td>\n",
       "      <td>0.084265</td>\n",
       "      <td>0.278261</td>\n",
       "      <td>0.352941</td>\n",
       "      <td>0.358569</td>\n",
       "      <td>0.428571</td>\n",
       "      <td>0.300000</td>\n",
       "      <td>0.152261</td>\n",
       "      <td>0.311741</td>\n",
       "      <td>0.097166</td>\n",
       "      <td>0.171900</td>\n",
       "      <td>0.175628</td>\n",
       "      <td>0.191566</td>\n",
       "      <td>1.0</td>\n",
       "      <td>Tr</td>\n",
       "    </tr>\n",
       "    <tr>\n",
       "      <th>1</th>\n",
       "      <td>0.2</td>\n",
       "      <td>0.000000</td>\n",
       "      <td>0.049532</td>\n",
       "      <td>0.313043</td>\n",
       "      <td>0.000000</td>\n",
       "      <td>0.000000</td>\n",
       "      <td>0.000000</td>\n",
       "      <td>0.000000</td>\n",
       "      <td>0.000000</td>\n",
       "      <td>0.175758</td>\n",
       "      <td>0.030303</td>\n",
       "      <td>0.001494</td>\n",
       "      <td>0.013317</td>\n",
       "      <td>0.063855</td>\n",
       "      <td>1.0</td>\n",
       "      <td>Tr</td>\n",
       "    </tr>\n",
       "    <tr>\n",
       "      <th>2</th>\n",
       "      <td>0.2</td>\n",
       "      <td>0.057143</td>\n",
       "      <td>0.014195</td>\n",
       "      <td>0.121739</td>\n",
       "      <td>0.250000</td>\n",
       "      <td>0.288675</td>\n",
       "      <td>0.500000</td>\n",
       "      <td>0.166667</td>\n",
       "      <td>0.181527</td>\n",
       "      <td>0.287879</td>\n",
       "      <td>0.080808</td>\n",
       "      <td>0.057046</td>\n",
       "      <td>0.056281</td>\n",
       "      <td>0.053012</td>\n",
       "      <td>1.0</td>\n",
       "      <td>Tr</td>\n",
       "    </tr>\n",
       "    <tr>\n",
       "      <th>3</th>\n",
       "      <td>0.2</td>\n",
       "      <td>0.057143</td>\n",
       "      <td>0.020538</td>\n",
       "      <td>0.208696</td>\n",
       "      <td>0.153846</td>\n",
       "      <td>0.240772</td>\n",
       "      <td>0.666667</td>\n",
       "      <td>0.086957</td>\n",
       "      <td>0.059216</td>\n",
       "      <td>0.586957</td>\n",
       "      <td>0.173913</td>\n",
       "      <td>0.057554</td>\n",
       "      <td>0.060804</td>\n",
       "      <td>0.074699</td>\n",
       "      <td>1.0</td>\n",
       "      <td>Tr</td>\n",
       "    </tr>\n",
       "    <tr>\n",
       "      <th>4</th>\n",
       "      <td>0.2</td>\n",
       "      <td>0.142857</td>\n",
       "      <td>0.048626</td>\n",
       "      <td>0.217391</td>\n",
       "      <td>0.370370</td>\n",
       "      <td>0.392837</td>\n",
       "      <td>0.555556</td>\n",
       "      <td>0.277778</td>\n",
       "      <td>0.107318</td>\n",
       "      <td>0.424837</td>\n",
       "      <td>0.180102</td>\n",
       "      <td>0.142926</td>\n",
       "      <td>0.143467</td>\n",
       "      <td>0.145783</td>\n",
       "      <td>1.0</td>\n",
       "      <td>Tr</td>\n",
       "    </tr>\n",
       "  </tbody>\n",
       "</table>\n",
       "</div>"
      ],
      "text/plain": [
       "   shortest_path  common_neighbors  pref_attach  neighbor_sum  sorensen  \\\n",
       "0            0.2          0.171429     0.084265      0.278261  0.352941   \n",
       "1            0.2          0.000000     0.049532      0.313043  0.000000   \n",
       "2            0.2          0.057143     0.014195      0.121739  0.250000   \n",
       "3            0.2          0.057143     0.020538      0.208696  0.153846   \n",
       "4            0.2          0.142857     0.048626      0.217391  0.370370   \n",
       "\n",
       "   cosine_sim  hub_prom  hub_depr  resource_all  local_cluster_sum  \\\n",
       "0    0.358569  0.428571  0.300000      0.152261           0.311741   \n",
       "1    0.000000  0.000000  0.000000      0.000000           0.175758   \n",
       "2    0.288675  0.500000  0.166667      0.181527           0.287879   \n",
       "3    0.240772  0.666667  0.086957      0.059216           0.586957   \n",
       "4    0.392837  0.555556  0.277778      0.107318           0.424837   \n",
       "\n",
       "   local_cluster_prod  local_path001  local_path01  local_path1  edge label  \n",
       "0            0.097166       0.171900      0.175628     0.191566   1.0    Tr  \n",
       "1            0.030303       0.001494      0.013317     0.063855   1.0    Tr  \n",
       "2            0.080808       0.057046      0.056281     0.053012   1.0    Tr  \n",
       "3            0.173913       0.057554      0.060804     0.074699   1.0    Tr  \n",
       "4            0.180102       0.142926      0.143467     0.145783   1.0    Tr  "
      ]
     },
     "execution_count": 5,
     "metadata": {},
     "output_type": "execute_result"
    }
   ],
   "source": [
    "\"\"\" \n",
    "View the data\n",
    "\"\"\"\n",
    "feature_df.head()"
   ]
  },
  {
   "cell_type": "code",
   "execution_count": 6,
   "metadata": {},
   "outputs": [],
   "source": [
    "\"\"\" \n",
    "Separate into train/valid/test\n",
    "\"\"\"\n",
    "train = feature_df[feature_df['label'] == 'Tr']\n",
    "test = feature_df[feature_df['label'] == 'T']\n",
    "\n",
    "# Separate out values\n",
    "y_train = train['edge']\n",
    "x_train = train.drop(columns = ['edge', 'label'])\n",
    "y_test = test['edge']\n",
    "x_test = test.drop(columns = ['edge', 'label'])"
   ]
  },
  {
   "cell_type": "code",
   "execution_count": 7,
   "metadata": {},
   "outputs": [
    {
     "data": {
      "image/png": "[encoded data removed]",
      "text/plain": [
       "<Figure size 576x576 with 1 Axes>"
      ]
     },
     "metadata": {},
     "output_type": "display_data"
    }
   ],
   "source": [
    "\"\"\"\n",
    "Logistic Regression Classifier\n",
    "\"\"\"\n",
    "\n",
    "# Create the model and display the loss function\n",
    "old_stdout = sys.stdout\n",
    "sys.stdout = mystdout = io.StringIO()\n",
    "logistic = SGDClassifier(random_state=345, loss = 'log', max_iter = 10000, tol = .001, verbose = 1)\n",
    "clf = logistic.fit(x_train, y_train)\n",
    "sys.stdout = old_stdout\n",
    "loss_history = mystdout.getvalue()\n",
    "loss_list = []\n",
    "for line in loss_history.split('\\n'):\n",
    "    if(len(line.split(\"loss: \")) == 1):\n",
    "        continue\n",
    "    loss_list.append(float(line.split(\"loss: \")[-1]))\n",
    "plt.figure(figsize = (8,8))\n",
    "plt.plot(np.arange(len(loss_list)), loss_list)\n",
    "plt.title('Loss Function over Epoches')\n",
    "plt.xlabel(\"Time in epochs\")\n",
    "plt.ylabel(\"Loss\")\n",
    "plt.show()"
   ]
  },
  {
   "cell_type": "code",
   "execution_count": 8,
   "metadata": {},
   "outputs": [
    {
     "name": "stdout",
     "output_type": "stream",
     "text": [
      "Accuracy =  0.46296296296296297\n",
      "Precision =  0.0\n",
      "Recall =  0.0\n",
      "Coefficients = \n",
      "[['shortest_path' '-26.193970147600382']\n",
      " ['common_neighbors' '1.716357594267849']\n",
      " ['pref_attach' '-1.7099004142556533']\n",
      " ['neighbor_sum' '-2.150880084386224']\n",
      " ['sorensen' '-1.375255672421482']\n",
      " ['cosine_sim' '-1.6712198334539883']\n",
      " ['hub_prom' '-0.9181238797444822']\n",
      " ['hub_depr' '-3.952526446243291']\n",
      " ['resource_all' '2.2866943726260334']\n",
      " ['local_cluster_sum' '1.7855006366563138']\n",
      " ['local_cluster_prod' '-0.2594959912392392']\n",
      " ['local_path001' '1.841854179832106']\n",
      " ['local_path01' '2.835106050503924']\n",
      " ['local_path1' '7.0809586253758035']]\n"
     ]
    }
   ],
   "source": [
    "\"\"\"\n",
    "Predict values \n",
    "\"\"\"\n",
    "\n",
    "# Construct confusion matrix\n",
    "y_pred = clf.predict(x_test)\n",
    "mat = confusion_matrix(y_test, y_pred)\n",
    "\n",
    "# Compute accuracy, precision, recall\n",
    "acc = (mat[0][0] + mat[1][1])/np.sum(mat)\n",
    "prec = mat[1][1]/(mat[1][1]+mat[1][0])\n",
    "rec = mat[1][1]/(mat[1][1]+mat[0][1])\n",
    "print('Accuracy = ', acc)\n",
    "print('Precision = ', prec)\n",
    "print('Recall = ', rec)\n",
    "# Alot of false negatives\n",
    "\n",
    "# Get the coefficients\n",
    "coef = clf.coef_[0]\n",
    "coef_pairs = np.stack((np.array(list(train)[:-2]), coef), axis = -1)\n",
    "print('Coefficients = ', coef_pairs, sep = '\\n')"
   ]
  },
  {
   "cell_type": "code",
   "execution_count": 9,
   "metadata": {},
   "outputs": [
    {
     "data": {
      "text/plain": [
       "array([[25,  1],\n",
       "       [28,  0]], dtype=int64)"
      ]
     },
     "execution_count": 9,
     "metadata": {},
     "output_type": "execute_result"
    }
   ],
   "source": [
    "mat"
   ]
  },
  {
   "cell_type": "code",
   "execution_count": 10,
   "metadata": {},
   "outputs": [
    {
     "data": {
      "image/png": "[encoded data removed]",
      "text/plain": [
       "<Figure size 576x576 with 1 Axes>"
      ]
     },
     "metadata": {},
     "output_type": "display_data"
    }
   ],
   "source": [
    "\"\"\"\n",
    "SVM Classifier\n",
    "\"\"\"\n",
    "\n",
    "# Create the model and display the loss function\n",
    "old_stdout = sys.stdout\n",
    "sys.stdout = mystdout = io.StringIO()\n",
    "svm = SGDClassifier(random_state=345, loss = 'hinge', max_iter = 10000, tol = .001, verbose = 1)\n",
    "clf = svm.fit(x_train, y_train)\n",
    "sys.stdout = old_stdout\n",
    "loss_history = mystdout.getvalue()\n",
    "loss_list = []\n",
    "for line in loss_history.split('\\n'):\n",
    "    if(len(line.split(\"loss: \")) == 1):\n",
    "        continue\n",
    "    loss_list.append(float(line.split(\"loss: \")[-1]))\n",
    "plt.figure(figsize = (8,8))\n",
    "plt.plot(np.arange(len(loss_list)), loss_list)\n",
    "plt.title('Loss Function over Epoches')\n",
    "plt.xlabel(\"Time in epochs\")\n",
    "plt.ylabel(\"Loss\")\n",
    "plt.show()"
   ]
  },
  {
   "cell_type": "code",
   "execution_count": 11,
   "metadata": {},
   "outputs": [
    {
     "name": "stdout",
     "output_type": "stream",
     "text": [
      "Accuracy =  0.46296296296296297\n",
      "Precision =  0.0\n",
      "Recall =  0.0\n",
      "Coefficients = \n",
      "[['shortest_path' '-20.917400971753096']\n",
      " ['common_neighbors' '1.152927612616319']\n",
      " ['pref_attach' '-1.6686782916345761']\n",
      " ['neighbor_sum' '-2.8715774699325785']\n",
      " ['sorensen' '-0.6660773757369348']\n",
      " ['cosine_sim' '-1.100202351231661']\n",
      " ['hub_prom' '-0.5334571034681348']\n",
      " ['hub_depr' '-3.3042810553953528']\n",
      " ['resource_all' '1.4866775345926984']\n",
      " ['local_cluster_sum' '1.4272729348160427']\n",
      " ['local_cluster_prod' '-0.5962495724829606']\n",
      " ['local_path001' '1.254544561562088']\n",
      " ['local_path01' '2.058799308243425']\n",
      " ['local_path1' '5.496746104900522']]\n"
     ]
    }
   ],
   "source": [
    "\"\"\"\n",
    "Predict values\n",
    "\"\"\"\n",
    "\n",
    "# Construct confusion matrix\n",
    "y_pred = clf.predict(x_test)\n",
    "mat = confusion_matrix(y_test, y_pred)\n",
    "\n",
    "# Compute accuracy, precision, recall\n",
    "acc = (mat[0][0] + mat[1][1])/np.sum(mat)\n",
    "prec = mat[1][1]/(mat[1][1]+mat[1][0])\n",
    "rec = mat[1][1]/(mat[1][1]+mat[0][1])\n",
    "print('Accuracy = ', acc)\n",
    "print('Precision = ', prec)\n",
    "print('Recall = ', rec)\n",
    "# Alot of false negatives\n",
    "\n",
    "# Get the coefficients\n",
    "coef = clf.coef_[0]\n",
    "coef_pairs = np.stack((np.array(list(train)[:-2]), coef), axis = -1)\n",
    "print('Coefficients = ', coef_pairs, sep = '\\n')"
   ]
  },
  {
   "cell_type": "code",
   "execution_count": 12,
   "metadata": {},
   "outputs": [
    {
     "data": {
      "text/plain": [
       "array([[25,  1],\n",
       "       [28,  0]], dtype=int64)"
      ]
     },
     "execution_count": 12,
     "metadata": {},
     "output_type": "execute_result"
    }
   ],
   "source": [
    "mat"
   ]
  },
  {
   "cell_type": "code",
   "execution_count": 13,
   "metadata": {},
   "outputs": [
    {
     "data": {
      "image/png": "[encoded data removed]",
      "text/plain": [
       "<Figure size 576x576 with 1 Axes>"
      ]
     },
     "metadata": {},
     "output_type": "display_data"
    }
   ],
   "source": [
    "\"\"\"\n",
    "Perceptron Classifier\n",
    "\"\"\"\n",
    "\n",
    "# Create the model and display the loss function\n",
    "old_stdout = sys.stdout\n",
    "sys.stdout = mystdout = io.StringIO()\n",
    "svm = SGDClassifier(random_state=345, loss = 'perceptron', max_iter = 30, tol = .001, verbose = 1)\n",
    "clf = svm.fit(x_train, y_train)\n",
    "sys.stdout = old_stdout\n",
    "loss_history = mystdout.getvalue()\n",
    "loss_list = []\n",
    "for line in loss_history.split('\\n'):\n",
    "    if(len(line.split(\"loss: \")) == 1):\n",
    "        continue\n",
    "    loss_list.append(float(line.split(\"loss: \")[-1]))\n",
    "plt.figure(figsize = (8,8))\n",
    "plt.plot(np.arange(len(loss_list)), loss_list)\n",
    "plt.title('Loss Function over Epoches')\n",
    "plt.xlabel(\"Time in epochs\")\n",
    "plt.ylabel(\"Loss\")\n",
    "plt.show()"
   ]
  },
  {
   "cell_type": "code",
   "execution_count": 14,
   "metadata": {},
   "outputs": [
    {
     "name": "stdout",
     "output_type": "stream",
     "text": [
      "Accuracy =  0.46296296296296297\n",
      "Precision =  0.0\n",
      "Recall =  0.0\n",
      "Coefficients = \n",
      "[['shortest_path' '-12.846907683438925']\n",
      " ['common_neighbors' '1.3176315572757908']\n",
      " ['pref_attach' '-1.5341194966167937']\n",
      " ['neighbor_sum' '-1.5969121590896889']\n",
      " ['sorensen' '-0.15902888573088714']\n",
      " ['cosine_sim' '-0.6833224368379258']\n",
      " ['hub_prom' '-0.38070575160959824']\n",
      " ['hub_depr' '-2.9800143427851786']\n",
      " ['resource_all' '1.1067921452364584']\n",
      " ['local_cluster_sum' '1.3658956253990033']\n",
      " ['local_cluster_prod' '-0.5189814991272691']\n",
      " ['local_path001' '1.3983123509111282']\n",
      " ['local_path01' '2.036866370889274']\n",
      " ['local_path1' '4.766492470747681']]\n"
     ]
    }
   ],
   "source": [
    "\"\"\"\n",
    "Predict values\n",
    "\"\"\"\n",
    "\n",
    "# Construct confusion matrix\n",
    "y_pred = clf.predict(x_test)\n",
    "mat = confusion_matrix(y_test, y_pred)\n",
    "\n",
    "# Compute accuracy, precision, recall\n",
    "acc = (mat[0][0] + mat[1][1])/np.sum(mat)\n",
    "prec = mat[1][1]/(mat[1][1]+mat[1][0])\n",
    "rec = mat[1][1]/(mat[1][1]+mat[0][1])\n",
    "print('Accuracy = ', acc)\n",
    "print('Precision = ', prec)\n",
    "print('Recall = ', rec)\n",
    "# Alot of false negatives\n",
    "\n",
    "# Get the coefficients\n",
    "coef = clf.coef_[0]\n",
    "coef_pairs = np.stack((np.array(list(train)[:-2]), coef), axis = -1)\n",
    "print('Coefficients = ', coef_pairs, sep = '\\n')"
   ]
  },
  {
   "cell_type": "code",
   "execution_count": 15,
   "metadata": {},
   "outputs": [
    {
     "data": {
      "text/plain": [
       "array([[25,  1],\n",
       "       [28,  0]], dtype=int64)"
      ]
     },
     "execution_count": 15,
     "metadata": {},
     "output_type": "execute_result"
    }
   ],
   "source": [
    "mat"
   ]
  },
  {
   "cell_type": "code",
   "execution_count": 16,
   "metadata": {},
   "outputs": [],
   "source": [
    "\"\"\"\n",
    "Random Forest Classifier\n",
    "\"\"\"\n",
    "\n",
    "# Create the model and display the loss function\n",
    "forest = RandomForestClassifier(n_estimators=100, max_depth=5, random_state=345, verbose = 0)\n",
    "clf = forest.fit(x_train, y_train)"
   ]
  },
  {
   "cell_type": "code",
   "execution_count": 17,
   "metadata": {},
   "outputs": [
    {
     "name": "stdout",
     "output_type": "stream",
     "text": [
      "Accuracy =  0.46296296296296297\n",
      "Precision =  0.0\n",
      "Recall =  0.0\n",
      "Importance = \n",
      "[['neighbor_sum' '0.004030981961045292']\n",
      " ['pref_attach' '0.005599916630099776']\n",
      " ['local_cluster_sum' '0.006973083770504987']\n",
      " ['local_cluster_prod' '0.006985217679286875']\n",
      " ['sorensen' '0.01027437092253838']\n",
      " ['hub_depr' '0.012772327336515218']\n",
      " ['hub_prom' '0.021652203435589858']\n",
      " ['cosine_sim' '0.032382048164672536']\n",
      " ['resource_all' '0.04047150003021207']\n",
      " ['common_neighbors' '0.054774829943327503']\n",
      " ['local_path01' '0.08292159899496902']\n",
      " ['local_path001' '0.0985384099418167']\n",
      " ['local_path1' '0.15374724106907156']\n",
      " ['shortest_path' '0.46887627012035']]\n"
     ]
    }
   ],
   "source": [
    "\"\"\"\n",
    "Predict values\n",
    "\"\"\"\n",
    "\n",
    "# Construct confusion matrix\n",
    "y_pred = clf.predict(x_test)\n",
    "mat = confusion_matrix(y_test, y_pred)\n",
    "\n",
    "# Compute accuracy, precision, recall\n",
    "acc = (mat[0][0] + mat[1][1])/np.sum(mat)\n",
    "prec = mat[1][1]/(mat[1][1]+mat[1][0])\n",
    "rec = mat[1][1]/(mat[1][1]+mat[0][1])\n",
    "print('Accuracy = ', acc)\n",
    "print('Precision = ', prec)\n",
    "print('Recall = ', rec)\n",
    "\n",
    "# Get variable importance\n",
    "imp = clf.feature_importances_\n",
    "ind = np.argsort(imp)\n",
    "coef_pairs = np.stack((np.array(list(train)[:-2])[ind], imp[ind]), axis = -1)\n",
    "print('Importance = ', coef_pairs, sep = '\\n')"
   ]
  },
  {
   "cell_type": "code",
   "execution_count": 18,
   "metadata": {},
   "outputs": [
    {
     "data": {
      "text/plain": [
       "array([[25,  1],\n",
       "       [28,  0]], dtype=int64)"
      ]
     },
     "execution_count": 18,
     "metadata": {},
     "output_type": "execute_result"
    }
   ],
   "source": [
    "mat"
   ]
  },
  {
   "cell_type": "code",
   "execution_count": 19,
   "metadata": {},
   "outputs": [],
   "source": [
    "\"\"\"\n",
    "Adaboost Classifier\n",
    "\"\"\"\n",
    "\n",
    "# Create the model and display the loss function\n",
    "adaboy = AdaBoostClassifier(random_state=345)\n",
    "clf = adaboy.fit(x_train, y_train)"
   ]
  },
  {
   "cell_type": "code",
   "execution_count": 20,
   "metadata": {},
   "outputs": [
    {
     "name": "stdout",
     "output_type": "stream",
     "text": [
      "Accuracy =  0.46296296296296297\n",
      "Precision =  0.0\n",
      "Recall =  0.0\n",
      "Importance = \n",
      "[['neighbor_sum' '0.14']\n",
      " ['pref_attach' '0.06']\n",
      " ['local_cluster_sum' '0.1']\n",
      " ['local_cluster_prod' '0.12']\n",
      " ['sorensen' '0.08']\n",
      " ['hub_depr' '0.1']\n",
      " ['hub_prom' '0.08']\n",
      " ['cosine_sim' '0.08']\n",
      " ['resource_all' '0.06']\n",
      " ['common_neighbors' '0.0']\n",
      " ['local_path01' '0.1']\n",
      " ['local_path001' '0.02']\n",
      " ['local_path1' '0.04']\n",
      " ['shortest_path' '0.02']]\n"
     ]
    }
   ],
   "source": [
    "\"\"\"\n",
    "Predict values\n",
    "\"\"\"\n",
    "\n",
    "# Construct confusion matrix\n",
    "y_pred = clf.predict(x_test)\n",
    "mat = confusion_matrix(y_test, y_pred)\n",
    "\n",
    "# Compute accuracy, precision, recall\n",
    "acc = (mat[0][0] + mat[1][1])/np.sum(mat)\n",
    "prec = mat[1][1]/(mat[1][1]+mat[1][0])\n",
    "rec = mat[1][1]/(mat[1][1]+mat[0][1])\n",
    "print('Accuracy = ', acc)\n",
    "print('Precision = ', prec)\n",
    "print('Recall = ', rec)\n",
    "\n",
    "# Get variable importance\n",
    "ind = np.argsort(imp)\n",
    "imp = clf.feature_importances_\n",
    "coef_pairs = np.stack((np.array(list(train)[:-2])[ind], imp[ind]), axis = -1)\n",
    "print('Importance = ', coef_pairs, sep = '\\n')"
   ]
  },
  {
   "cell_type": "code",
   "execution_count": 21,
   "metadata": {},
   "outputs": [
    {
     "data": {
      "text/plain": [
       "array([[25,  1],\n",
       "       [28,  0]], dtype=int64)"
      ]
     },
     "execution_count": 21,
     "metadata": {},
     "output_type": "execute_result"
    }
   ],
   "source": [
    "mat"
   ]
  },
  {
   "cell_type": "code",
   "execution_count": 22,
   "metadata": {},
   "outputs": [],
   "source": [
    "\"\"\"\n",
    "Naive Bayes Classifier\n",
    "\"\"\"\n",
    "\n",
    "# Create the model and display the loss function\n",
    "naive = BernoulliNB()\n",
    "clf = naive.fit(x_train, y_train)"
   ]
  },
  {
   "cell_type": "code",
   "execution_count": 23,
   "metadata": {},
   "outputs": [
    {
     "name": "stdout",
     "output_type": "stream",
     "text": [
      "Accuracy =  0.6481481481481481\n",
      "Precision =  0.8214285714285714\n",
      "Recall =  0.6216216216216216\n"
     ]
    }
   ],
   "source": [
    "\"\"\"\n",
    "Predict values\n",
    "\"\"\"\n",
    "\n",
    "# Construct confusion matrix\n",
    "y_pred = clf.predict(x_test)\n",
    "mat = confusion_matrix(y_test, y_pred)\n",
    "\n",
    "# Compute accuracy, precision, recall\n",
    "acc = (mat[0][0] + mat[1][1])/np.sum(mat)\n",
    "prec = mat[1][1]/(mat[1][1]+mat[1][0])\n",
    "rec = mat[1][1]/(mat[1][1]+mat[0][1])\n",
    "print('Accuracy = ', acc)\n",
    "print('Precision = ', prec)\n",
    "print('Recall = ', rec)"
   ]
  },
  {
   "cell_type": "code",
   "execution_count": 24,
   "metadata": {},
   "outputs": [
    {
     "data": {
      "text/plain": [
       "array([[12, 14],\n",
       "       [ 5, 23]], dtype=int64)"
      ]
     },
     "execution_count": 24,
     "metadata": {},
     "output_type": "execute_result"
    }
   ],
   "source": [
    "mat"
   ]
  },
  {
   "cell_type": "code",
   "execution_count": null,
   "metadata": {},
   "outputs": [],
   "source": []
  }
 ],
 "metadata": {
  "kernelspec": {
   "display_name": "Python 3",
   "language": "python",
   "name": "python3"
  },
  "language_info": {
   "codemirror_mode": {
    "name": "ipython",
    "version": 3
   },
   "file_extension": ".py",
   "mimetype": "text/x-python",
   "name": "python",
   "nbconvert_exporter": "python",
   "pygments_lexer": "ipython3",
   "version": "3.6.5"
  }
 },
 "nbformat": 4,
 "nbformat_minor": 2
}
